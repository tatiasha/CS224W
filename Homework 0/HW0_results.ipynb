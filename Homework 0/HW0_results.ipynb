{
 "cells": [
  {
   "cell_type": "code",
   "execution_count": 2,
   "metadata": {},
   "outputs": [],
   "source": [
    "import snap\n",
    "from collections import Counter\n",
    "import matplotlib.pyplot as plt"
   ]
  },
  {
   "cell_type": "markdown",
   "metadata": {},
   "source": [
    "# Analyzing the Wikipedia voters network"
   ]
  },
  {
   "cell_type": "code",
   "execution_count": 3,
   "metadata": {},
   "outputs": [],
   "source": [
    "wiki_graph = snap.TNGraph.New()"
   ]
  },
  {
   "cell_type": "code",
   "execution_count": 4,
   "metadata": {},
   "outputs": [],
   "source": [
    "f = open('..//..//data//data_hw0_1.txt')\n",
    "for line in f:\n",
    "    pair = line.split('\\t')\n",
    "    if len(pair)==2 and pair[0].isdigit():\n",
    "        node_0 = int(pair[0])\n",
    "        node_1 = int(pair[1])\n",
    "        if not wiki_graph.IsNode(node_0):\n",
    "            wiki_graph.AddNode(node_0)\n",
    "        if  not wiki_graph.IsNode(node_1):\n",
    "            wiki_graph.AddNode(node_1)\n",
    "        wiki_graph.AddEdge(node_0, node_1)\n"
   ]
  },
  {
   "cell_type": "code",
   "execution_count": 5,
   "metadata": {},
   "outputs": [
    {
     "name": "stdout",
     "output_type": "stream",
     "text": [
      "The number of nodes in the network: 7115\n"
     ]
    }
   ],
   "source": [
    "print('The number of nodes in the network: {}'.format(wiki_graph.GetNodes()))"
   ]
  },
  {
   "cell_type": "code",
   "execution_count": 6,
   "metadata": {},
   "outputs": [
    {
     "name": "stdout",
     "output_type": "stream",
     "text": [
      "The number of nodes with a self-edge (self-loop): 0\n"
     ]
    }
   ],
   "source": [
    "print('The number of nodes with a self-edge (self-loop): {}'.format(snap.CntSelfEdges(wiki_graph)))"
   ]
  },
  {
   "cell_type": "code",
   "execution_count": 7,
   "metadata": {},
   "outputs": [
    {
     "name": "stdout",
     "output_type": "stream",
     "text": [
      "The number of directed edges in the network, i.e., the number of ordered pairs: 103689\n"
     ]
    }
   ],
   "source": [
    "print('The number of directed edges in the network, i.e., the number of ordered pairs: {}'.format(\n",
    "    wiki_graph.GetEdges()-snap.CntSelfEdges(wiki_graph)))"
   ]
  },
  {
   "cell_type": "code",
   "execution_count": 8,
   "metadata": {},
   "outputs": [
    {
     "name": "stdout",
     "output_type": "stream",
     "text": [
      "The number of undirected edges in the network, i.e., the number of unique unordered pairs: 100762\n"
     ]
    }
   ],
   "source": [
    "print('The number of undirected edges in the network, i.e., the number of unique unordered pairs: {}'.format(\n",
    "    snap.CntUniqUndirEdges(wiki_graph)))"
   ]
  },
  {
   "cell_type": "code",
   "execution_count": 9,
   "metadata": {},
   "outputs": [
    {
     "name": "stdout",
     "output_type": "stream",
     "text": [
      "The number of reciprocated edges in the network, i.e., the number of unique unordered pairs of nodes: 2927\n"
     ]
    }
   ],
   "source": [
    "print('The number of reciprocated edges in the network, i.e., the number of unique unordered pairs of nodes: {}'.format(\n",
    "snap.CntUniqBiDirEdges(wiki_graph)))"
   ]
  },
  {
   "cell_type": "code",
   "execution_count": 10,
   "metadata": {},
   "outputs": [
    {
     "name": "stdout",
     "output_type": "stream",
     "text": [
      "The number of nodes of zero out-degree: 1005\n"
     ]
    }
   ],
   "source": [
    "print('The number of nodes of zero out-degree: {}'.format(snap.CntOutDegNodes(wiki_graph, 0)))"
   ]
  },
  {
   "cell_type": "code",
   "execution_count": 11,
   "metadata": {},
   "outputs": [
    {
     "name": "stdout",
     "output_type": "stream",
     "text": [
      "The number of nodes of zero in-degree: 4734\n"
     ]
    }
   ],
   "source": [
    "print('The number of nodes of zero in-degree: {}'.format(snap.CntInDegNodes(wiki_graph, 0)))"
   ]
  },
  {
   "cell_type": "code",
   "execution_count": 12,
   "metadata": {},
   "outputs": [
    {
     "name": "stdout",
     "output_type": "stream",
     "text": [
      "The number of nodes with more than 10 outgoing edges (out-degree > 10): 1612\n"
     ]
    }
   ],
   "source": [
    "InDegV = snap.TIntPrV()\n",
    "snap.GetNodeOutDegV(wiki_graph, InDegV)\n",
    "more10 = 0\n",
    "for item in InDegV:\n",
    "    if item.GetVal2() > 10:\n",
    "        more10 += 1\n",
    "print('The number of nodes with more than 10 outgoing edges (out-degree > 10): {}'.format(more10))"
   ]
  },
  {
   "cell_type": "code",
   "execution_count": 13,
   "metadata": {},
   "outputs": [
    {
     "name": "stdout",
     "output_type": "stream",
     "text": [
      "The number of nodes with fewer than 10 incoming edges (in-degree < 10): 5165\n"
     ]
    }
   ],
   "source": [
    "InDegV = snap.TIntPrV()\n",
    "snap.GetNodeInDegV(wiki_graph, InDegV)\n",
    "less10 = 0\n",
    "for item in InDegV:\n",
    "    if item.GetVal2() < 10:\n",
    "        less10 += 1\n",
    "print('The number of nodes with fewer than 10 incoming edges (in-degree < 10): {}'.format(less10))"
   ]
  },
  {
   "cell_type": "markdown",
   "metadata": {},
   "source": [
    "# Further Analyzing the Wikipedia voters network"
   ]
  },
  {
   "cell_type": "raw",
   "metadata": {},
   "source": [
    "Plot the distribution of out-degrees of nodes in the network on a log-log scale.\n",
    "Each data point is a pair (x; y) where x is a positive integer and y is the number of nodes\n",
    "in the network with out-degree equal to x. Restrict the range of x between the minimum\n",
    "and maximum out-degrees. You may \f",
    "lter out data points with a 0 entry. For the log-log\n",
    "scale, use base 10 for both x and y axes."
   ]
  },
  {
   "cell_type": "code",
   "execution_count": 14,
   "metadata": {},
   "outputs": [],
   "source": [
    "OutDegV = snap.TIntPrV()\n",
    "snap.GetNodeOutDegV(wiki_graph, OutDegV)\n",
    "out_degree = [i.GetVal2() for i in OutDegV if i.GetVal2()>0]\n",
    "out_degree_dist = Counter(out_degree)"
   ]
  },
  {
   "cell_type": "code",
   "execution_count": 15,
   "metadata": {},
   "outputs": [],
   "source": [
    "x_vals = list(out_degree_dist.keys())\n",
    "y_vals = list(out_degree_dist.values())"
   ]
  },
  {
   "cell_type": "code",
   "execution_count": 16,
   "metadata": {},
   "outputs": [
    {
     "data": {
      "image/png": "[encoded data removed]",
      "text/plain": [
       "<Figure size 432x288 with 1 Axes>"
      ]
     },
     "metadata": {
      "needs_background": "light"
     },
     "output_type": "display_data"
    }
   ],
   "source": [
    "plt.scatter(x_vals, y_vals, s=10)\n",
    "plt.xscale('log')\n",
    "plt.yscale('log')\n",
    "plt.xlim([1, 10000]);"
   ]
  },
  {
   "cell_type": "raw",
   "metadata": {},
   "source": [
    "Compute and plot the least-square regression line for the out-degree distribution\n",
    "in the log-log scale plot."
   ]
  },
  {
   "cell_type": "code",
   "execution_count": 17,
   "metadata": {},
   "outputs": [
    {
     "data": {
      "text/plain": [
       "(-1.281064705674566, 3.132454704499913)"
      ]
     },
     "execution_count": 17,
     "metadata": {},
     "output_type": "execute_result"
    }
   ],
   "source": [
    "import numpy as np\n",
    "a, b = np.polyfit(np.log10(x_vals), np.log10(y_vals), 1)\n",
    "a, b"
   ]
  },
  {
   "cell_type": "code",
   "execution_count": 18,
   "metadata": {},
   "outputs": [],
   "source": [
    "y_val = [10**b*x**a for x in x_vals]"
   ]
  },
  {
   "cell_type": "code",
   "execution_count": 19,
   "metadata": {},
   "outputs": [
    {
     "data": {
      "image/png": "[encoded data removed]",
      "text/plain": [
       "<Figure size 432x288 with 1 Axes>"
      ]
     },
     "metadata": {
      "needs_background": "light"
     },
     "output_type": "display_data"
    }
   ],
   "source": [
    "plt.scatter(x_vals, y_val, label='Out-degree distribution', s=10)\n",
    "plt.scatter(x_vals, y_vals, label='The least-square regression', s=10)\n",
    "plt.xscale('log')\n",
    "plt.yscale('log')\n",
    "plt.legend();"
   ]
  },
  {
   "cell_type": "markdown",
   "metadata": {},
   "source": [
    "# Finding Experts on the Java Programming Language on StackOverflow"
   ]
  },
  {
   "cell_type": "code",
   "execution_count": 20,
   "metadata": {},
   "outputs": [],
   "source": [
    "stackoverflow_graph = snap.TNGraph.New()"
   ]
  },
  {
   "cell_type": "code",
   "execution_count": 21,
   "metadata": {},
   "outputs": [],
   "source": [
    "f = open('..//..//data//data_hw0_2.txt')\n",
    "for line in f:\n",
    "    pair = line.split('\\t')\n",
    "    if len(pair)==2 and pair[0].isdigit():\n",
    "        node_0 = int(pair[0])\n",
    "        node_1 = int(pair[1])\n",
    "        if not stackoverflow_graph.IsNode(node_0):\n",
    "            stackoverflow_graph.AddNode(node_0)\n",
    "        if  not stackoverflow_graph.IsNode(node_1):\n",
    "            stackoverflow_graph.AddNode(node_1)\n",
    "        stackoverflow_graph.AddEdge(node_0, node_1)"
   ]
  },
  {
   "cell_type": "code",
   "execution_count": 22,
   "metadata": {},
   "outputs": [
    {
     "name": "stdout",
     "output_type": "stream",
     "text": [
      "The number of weakly connected components in the network: 10143\n"
     ]
    }
   ],
   "source": [
    "Components = snap.TCnComV()\n",
    "snap.GetWccs(stackoverflow_graph, Components)\n",
    "print('The number of weakly connected components in the network: {}'.format(Components.Len()))"
   ]
  },
  {
   "cell_type": "code",
   "execution_count": 23,
   "metadata": {},
   "outputs": [
    {
     "name": "stdout",
     "output_type": "stream",
     "text": [
      "The number of edges and the number of nodes in the largest weakly connected component: 322486 edges and 131188 nodes\n"
     ]
    }
   ],
   "source": [
    "MxWcc = snap.GetMxWcc(stackoverflow_graph)\n",
    "print('The number of edges and the number of nodes in the largest weakly connected component: {} edges and {} nodes'.format(\n",
    "    MxWcc.GetEdges(), MxWcc.GetNodes()))"
   ]
  },
  {
   "cell_type": "code",
   "execution_count": 29,
   "metadata": {},
   "outputs": [
    {
     "name": "stdout",
     "output_type": "stream",
     "text": [
      "IDs of the top 3 most central nodes in the network by PagePank scores: (992484, 0.013980540412209575), (135152, 0.010005538895741885), (22656, 0.007103532693128619)\n"
     ]
    }
   ],
   "source": [
    "PRankH = snap.TIntFltH()\n",
    "snap.GetPageRank(stackoverflow_graph, PRankH)\n",
    "pagerank = [(item, PRankH[item]) for item in PRankH]\n",
    "pagerank.sort(key=lambda x: x[1])\n",
    "print('IDs of the top 3 most central nodes in the network by PagePank scores: {}, {}, {}'.format(pagerank[-1],pagerank[-2],pagerank[-3]))"
   ]
  },
  {
   "cell_type": "code",
   "execution_count": 30,
   "metadata": {},
   "outputs": [
    {
     "name": "stdout",
     "output_type": "stream",
     "text": [
      "IDs of the top 3 hubs in the network by HITS scores: (892029, 0.07336380373389548), (1194415, 0.05955074418794487), (359862, 0.05687564588068672)\n",
      "IDs of the top 3 authorities in the network by HITS scores: (22656, 0.6047239730413133), (157882, 0.2986993488728824), (571407, 0.2839071934144654)\n"
     ]
    }
   ],
   "source": [
    "NIdHubH = snap.TIntFltH()\n",
    "NIdAuthH = snap.TIntFltH()\n",
    "snap.GetHits(stackoverflow_graph, NIdHubH, NIdAuthH)\n",
    "hubs = [(item, NIdHubH[item]) for item in NIdHubH]\n",
    "hubs.sort(key=lambda x: x[1])\n",
    "auth = [(item, NIdAuthH[item]) for item in NIdAuthH]\n",
    "auth.sort(key=lambda x: x[1])\n",
    "print('IDs of the top 3 hubs in the network by HITS scores: {}, {}, {}'.format(hubs[-1],hubs[-2],hubs[-3]))\n",
    "print('IDs of the top 3 authorities in the network by HITS scores: {}, {}, {}'.format(auth[-1],auth[-2],auth[-3]))"
   ]
  },
  {
   "cell_type": "code",
   "execution_count": null,
   "metadata": {},
   "outputs": [],
   "source": []
  }
 ],
 "metadata": {
  "kernelspec": {
   "display_name": "Python 3",
   "language": "python",
   "name": "python3"
  },
  "language_info": {
   "codemirror_mode": {
    "name": "ipython",
    "version": 3
   },
   "file_extension": ".py",
   "mimetype": "text/x-python",
   "name": "python",
   "nbconvert_exporter": "python",
   "pygments_lexer": "ipython3",
   "version": "3.7.3"
  }
 },
 "nbformat": 4,
 "nbformat_minor": 2
}
